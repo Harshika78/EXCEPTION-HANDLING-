{
 "cells": [
  {
   "cell_type": "markdown",
   "metadata": {},
   "source": [
    "Q7"
   ]
  },
  {
   "cell_type": "code",
   "execution_count": 14,
   "metadata": {},
   "outputs": [],
   "source": [
    "# Imports\n",
    "from selenium import webdriver\n",
    "import pandas as pd \n",
    "import time\n",
    "from selenium.common.exceptions import NoSuchElementException    # Importing Exception"
   ]
  },
  {
   "cell_type": "code",
   "execution_count": 15,
   "metadata": {},
   "outputs": [],
   "source": [
    "driver=webdriver.Chrome(\"chromedriver.exe\") \n",
    "\n",
    "time.sleep(4)\n",
    "\n",
    "\n",
    "\n",
    "url = \"https://www.naukri.com/\"\n",
    "\n",
    "driver.get(url)"
   ]
  },
  {
   "cell_type": "code",
   "execution_count": 23,
   "metadata": {},
   "outputs": [],
   "source": [
    "## Fetching urls\n",
    "urls=[]\n",
    "for i in driver.find_elements_by_xpath(\"//a[@class='title fw500 ellipsis']\"):\n",
    "    urls.append(i.get_attribute(\"href\"))\n"
   ]
  },
  {
   "cell_type": "code",
   "execution_count": 24,
   "metadata": {},
   "outputs": [
    {
     "data": {
      "text/plain": [
       "20"
      ]
     },
     "execution_count": 24,
     "metadata": {},
     "output_type": "execute_result"
    }
   ],
   "source": [
    "len(urls)"
   ]
  },
  {
   "cell_type": "code",
   "execution_count": 25,
   "metadata": {},
   "outputs": [
    {
     "data": {
      "text/plain": [
       "['https://www.naukri.com/job-listings-data-engineers-data-scientist-and-sap-teamware-solutions-bangalore-bengaluru-7-to-10-years-300721500677?src=jobsearchDesk&sid=16278324237128677&xp=1&px=1',\n",
       " 'https://www.naukri.com/job-listings-senior-associate-data-scientist-novotree-minds-consulting-pvt-limited-bangalore-bengaluru-4-to-7-years-300721001832?src=jobsearchDesk&sid=16278324237128677&xp=2&px=1',\n",
       " 'https://www.naukri.com/job-listings-senior-data-scientist-ibm-india-pvt-limited-bangalore-bengaluru-5-to-10-years-260721907182?src=jobsearchDesk&sid=16278324237128677&xp=3&px=1',\n",
       " 'https://www.naukri.com/job-listings-senior-data-scientist-l-a-consultancy-kochi-cochin-hyderabad-secunderabad-pune-chennai-delhi-ncr-bangalore-bengaluru-5-to-9-years-310721903849?src=jobsearchDesk&sid=16278324237128677&xp=4&px=1',\n",
       " 'https://www.naukri.com/job-listings-senior-analyst-data-scientist-naukri-employer-services-bangalore-bengaluru-1-to-4-years-300721006074?src=jobsearchDesk&sid=16278324237128677&xp=5&px=1',\n",
       " 'https://www.naukri.com/job-listings-senior-data-scientist-randstad-india-pvt-ltd-bangalore-bengaluru-4-to-9-years-280721000424?src=jobsearchDesk&sid=16278324237128677&xp=6&px=1',\n",
       " 'https://www.naukri.com/job-listings-associate-data-scientist-execboardinasia-bangalore-bengaluru-5-to-10-years-310721500675?src=jobsearchDesk&sid=16278324237128677&xp=7&px=1',\n",
       " 'https://www.naukri.com/job-listings-data-scientist-senior-lead-superior-group-bangalore-bengaluru-6-to-11-years-260721501436?src=jobsearchDesk&sid=16278324237128677&xp=8&px=1',\n",
       " 'https://www.naukri.com/job-listings-lead-data-scientist-tensorflow-machine-learning-getinz-techno-services-mumbai-hyderabad-secunderabad-chennai-bangalore-bengaluru-7-to-10-years-250721900474?src=jobsearchDesk&sid=16278324237128677&xp=9&px=1',\n",
       " 'https://www.naukri.com/job-listings-data-scientist-cropin-technology-solutions-pvt-ltd-bangalore-bengaluru-2-to-3-years-310721500812?src=jobsearchDesk&sid=16278324237128677&xp=10&px=1',\n",
       " 'https://www.naukri.com/job-listings-data-scientist-image-processing-data-scientist-ky-technologies-and-training-services-hyderabad-secunderabad-bangalore-bengaluru-4-to-9-years-310721001231?src=jobsearchDesk&sid=16278324237128677&xp=11&px=1',\n",
       " 'https://www.naukri.com/job-listings-data-scientist-pixxel-bangalore-bengaluru-4-to-7-years-300721500933?src=jobsearchDesk&sid=16278324237128677&xp=12&px=1',\n",
       " 'https://www.naukri.com/job-listings-data-scientist-python-sql-catalyst-bangalore-bengaluru-2-to-7-years-030918900823?src=jobsearchDesk&sid=16278324237128677&xp=13&px=1',\n",
       " 'https://www.naukri.com/job-listings-data-scientist-quality-engineering-software-technologies-pvt-ltd-bangalore-bengaluru-4-to-8-years-310721501381?src=jobsearchDesk&sid=16278324237128677&xp=14&px=1',\n",
       " 'https://www.naukri.com/job-listings-senior-software-engineer-data-scientist-ara-resources-bangalore-bengaluru-6-to-10-years-290721906399?src=jobsearchDesk&sid=16278324237128677&xp=15&px=1',\n",
       " 'https://www.naukri.com/job-listings-hiring-for-data-scientist-tata-consultancy-services-ltd-bangalore-bengaluru-4-to-8-years-260721001825?src=jobsearchDesk&sid=16278324237128677&xp=16&px=1',\n",
       " 'https://www.naukri.com/job-listings-data-scientist-python-pandas-numpy-catalyst-bangalore-bengaluru-3-to-8-years-140121901824?src=jobsearchDesk&sid=16278324237128677&xp=17&px=1',\n",
       " 'https://www.naukri.com/job-listings-data-scientist-r-nlp-python-savantys-solutions-hyderabad-secunderabad-bangalore-bengaluru-5-to-10-years-180621908150?src=jobsearchDesk&sid=16278324237128677&xp=18&px=1',\n",
       " 'https://www.naukri.com/job-listings-data-scientist-machine-learning-catalyst-bangalore-bengaluru-2-to-7-years-150121904947?src=jobsearchDesk&sid=16278324237128677&xp=19&px=1',\n",
       " 'https://www.naukri.com/job-listings-sr-data-scientist-perform-group-bangalore-bengaluru-3-to-7-years-290721501445?src=jobsearchDesk&sid=16278324237128677&xp=20&px=1']"
      ]
     },
     "execution_count": 25,
     "metadata": {},
     "output_type": "execute_result"
    }
   ],
   "source": [
    "urls"
   ]
  },
  {
   "cell_type": "code",
   "execution_count": 26,
   "metadata": {},
   "outputs": [],
   "source": [
    "## defining variables\n",
    "job_title=[]\n",
    "job_description=[]\n",
    "job_company=[]\n",
    "job_location=[]"
   ]
  },
  {
   "cell_type": "code",
   "execution_count": 27,
   "metadata": {},
   "outputs": [],
   "source": [
    "for i in urls[:10]:\n",
    "    driver.get(i)\n",
    "    time.sleep(3)\n",
    "    # fetching job title\n",
    "    try:\n",
    "        job=driver.find_element_by_xpath(\"//h1[@class='jd-header-title']\")\n",
    "        job_title.append(job.text)\n",
    "    except NoSuchElementException:\n",
    "        job_title.append('_')\n",
    "        \n",
    "    #fetching job description\n",
    "    try:\n",
    "        job_desc=driver.find_element_by_xpath(\"//section[@class='job-desc']\")\n",
    "        job_description.append(job_desc.text)\n",
    "    except:\n",
    "        job_description.append('_')\n",
    "        \n",
    "    #fetching job company\n",
    "    try:\n",
    "        job_com=driver.find_element_by_xpath(\"//div[@class='jd-header-comp-name']\")\n",
    "        job_company.append(job_com.text)\n",
    "    except:\n",
    "        job_company.append('_')\n",
    "        \n",
    "    #fetching job location\n",
    "    try:\n",
    "        job_loc=driver.find_element_by_xpath(\"//div[@class='loc']\")\n",
    "        job_location.append(job_loc.text)\n",
    "    except:\n",
    "        job_location.append('_')\n",
    "        "
   ]
  },
  {
   "cell_type": "code",
   "execution_count": 30,
   "metadata": {},
   "outputs": [
    {
     "name": "stdout",
     "output_type": "stream",
     "text": [
      "10\n",
      "10\n",
      "10\n",
      "10\n"
     ]
    }
   ],
   "source": [
    "print(len(job_title))\n",
    "print(len(job_description))\n",
    "print(len(job_location))\n",
    "print(len(job_company))"
   ]
  },
  {
   "cell_type": "code",
   "execution_count": 31,
   "metadata": {},
   "outputs": [],
   "source": [
    "# import pandas as pd \n",
    "job=pd.DataFrame({})\n",
    "job['Names']=job_title\n",
    "job['company']=job_company\n",
    "job['location']=job_location\n",
    "job['description']=job_description"
   ]
  },
  {
   "cell_type": "code",
   "execution_count": 32,
   "metadata": {},
   "outputs": [
    {
     "data": {
      "text/html": [
       "<div>\n",
       "<style scoped>\n",
       "    .dataframe tbody tr th:only-of-type {\n",
       "        vertical-align: middle;\n",
       "    }\n",
       "\n",
       "    .dataframe tbody tr th {\n",
       "        vertical-align: top;\n",
       "    }\n",
       "\n",
       "    .dataframe thead th {\n",
       "        text-align: right;\n",
       "    }\n",
       "</style>\n",
       "<table border=\"1\" class=\"dataframe\">\n",
       "  <thead>\n",
       "    <tr style=\"text-align: right;\">\n",
       "      <th></th>\n",
       "      <th>Names</th>\n",
       "      <th>company</th>\n",
       "      <th>location</th>\n",
       "      <th>description</th>\n",
       "    </tr>\n",
       "  </thead>\n",
       "  <tbody>\n",
       "    <tr>\n",
       "      <th>0</th>\n",
       "      <td>Data Engineers , Data Scientist and SAP</td>\n",
       "      <td>Teamware Solutions4.2(131 Reviews)</td>\n",
       "      <td>Bangalore/Bengaluru</td>\n",
       "      <td>Job description\\nDynamic recruiting profession...</td>\n",
       "    </tr>\n",
       "    <tr>\n",
       "      <th>1</th>\n",
       "      <td>Senior Associate - Data Scientist</td>\n",
       "      <td>Novotree Minds Consulting Pvt Limited</td>\n",
       "      <td>Bangalore/Bengaluru</td>\n",
       "      <td>Job description\\nRoles and Responsibilities\\nA...</td>\n",
       "    </tr>\n",
       "    <tr>\n",
       "      <th>2</th>\n",
       "      <td>_</td>\n",
       "      <td>_</td>\n",
       "      <td>_</td>\n",
       "      <td>_</td>\n",
       "    </tr>\n",
       "    <tr>\n",
       "      <th>3</th>\n",
       "      <td>Senior Data Scientist</td>\n",
       "      <td>L A Consultancy</td>\n",
       "      <td>Kochi/Cochin, Hyderabad/Secunderabad, Pune, Ch...</td>\n",
       "      <td>Job description\\nKey Requirements:\\n• Data-ori...</td>\n",
       "    </tr>\n",
       "    <tr>\n",
       "      <th>4</th>\n",
       "      <td>Senior Analyst/Data Scientist</td>\n",
       "      <td>Naukri Premium - Employer Services</td>\n",
       "      <td>Bangalore/Bengaluru</td>\n",
       "      <td>Job description\\nJob Description\\n- Best in cl...</td>\n",
       "    </tr>\n",
       "    <tr>\n",
       "      <th>5</th>\n",
       "      <td>Senior Data Scientist</td>\n",
       "      <td>RANDSTAD INDIA PVT LTD4.1(1157 Reviews)</td>\n",
       "      <td>Bangalore/Bengaluru</td>\n",
       "      <td>Job description\\nRoles and Responsibilities\\nJ...</td>\n",
       "    </tr>\n",
       "    <tr>\n",
       "      <th>6</th>\n",
       "      <td>Associate Data Scientist</td>\n",
       "      <td>ExecBoardinAsia</td>\n",
       "      <td>Bangalore/Bengaluru</td>\n",
       "      <td>Job description\\nEngagement and collaboration ...</td>\n",
       "    </tr>\n",
       "    <tr>\n",
       "      <th>7</th>\n",
       "      <td>Data Scientist - Senior / Lead</td>\n",
       "      <td>Superior Group4.6(14 Reviews)</td>\n",
       "      <td>Bangalore/Bengaluru</td>\n",
       "      <td>Job description\\nResponsibilities:\\nProvide ad...</td>\n",
       "    </tr>\n",
       "    <tr>\n",
       "      <th>8</th>\n",
       "      <td>Lead Data Scientist - Tensorflow/Machine Learning</td>\n",
       "      <td>Getinz Techno Services</td>\n",
       "      <td>Mumbai, Hyderabad/Secunderabad, Chennai, Banga...</td>\n",
       "      <td>Job description\\nHiring for B2B saas product c...</td>\n",
       "    </tr>\n",
       "    <tr>\n",
       "      <th>9</th>\n",
       "      <td>Data Scientist</td>\n",
       "      <td>CropIn Technology Solutions Pvt. Ltd.4.5(14 Re...</td>\n",
       "      <td>Bangalore/Bengaluru</td>\n",
       "      <td>Job description\\nProblem We Are Solving\\nThe w...</td>\n",
       "    </tr>\n",
       "  </tbody>\n",
       "</table>\n",
       "</div>"
      ],
      "text/plain": [
       "                                               Names  \\\n",
       "0            Data Engineers , Data Scientist and SAP   \n",
       "1                  Senior Associate - Data Scientist   \n",
       "2                                                  _   \n",
       "3                              Senior Data Scientist   \n",
       "4                      Senior Analyst/Data Scientist   \n",
       "5                              Senior Data Scientist   \n",
       "6                           Associate Data Scientist   \n",
       "7                     Data Scientist - Senior / Lead   \n",
       "8  Lead Data Scientist - Tensorflow/Machine Learning   \n",
       "9                                     Data Scientist   \n",
       "\n",
       "                                             company  \\\n",
       "0                 Teamware Solutions4.2(131 Reviews)   \n",
       "1              Novotree Minds Consulting Pvt Limited   \n",
       "2                                                  _   \n",
       "3                                    L A Consultancy   \n",
       "4                 Naukri Premium - Employer Services   \n",
       "5            RANDSTAD INDIA PVT LTD4.1(1157 Reviews)   \n",
       "6                                    ExecBoardinAsia   \n",
       "7                      Superior Group4.6(14 Reviews)   \n",
       "8                             Getinz Techno Services   \n",
       "9  CropIn Technology Solutions Pvt. Ltd.4.5(14 Re...   \n",
       "\n",
       "                                            location  \\\n",
       "0                                Bangalore/Bengaluru   \n",
       "1                                Bangalore/Bengaluru   \n",
       "2                                                  _   \n",
       "3  Kochi/Cochin, Hyderabad/Secunderabad, Pune, Ch...   \n",
       "4                                Bangalore/Bengaluru   \n",
       "5                                Bangalore/Bengaluru   \n",
       "6                                Bangalore/Bengaluru   \n",
       "7                                Bangalore/Bengaluru   \n",
       "8  Mumbai, Hyderabad/Secunderabad, Chennai, Banga...   \n",
       "9                                Bangalore/Bengaluru   \n",
       "\n",
       "                                         description  \n",
       "0  Job description\\nDynamic recruiting profession...  \n",
       "1  Job description\\nRoles and Responsibilities\\nA...  \n",
       "2                                                  _  \n",
       "3  Job description\\nKey Requirements:\\n• Data-ori...  \n",
       "4  Job description\\nJob Description\\n- Best in cl...  \n",
       "5  Job description\\nRoles and Responsibilities\\nJ...  \n",
       "6  Job description\\nEngagement and collaboration ...  \n",
       "7  Job description\\nResponsibilities:\\nProvide ad...  \n",
       "8  Job description\\nHiring for B2B saas product c...  \n",
       "9  Job description\\nProblem We Are Solving\\nThe w...  "
      ]
     },
     "execution_count": 32,
     "metadata": {},
     "output_type": "execute_result"
    }
   ],
   "source": [
    "job"
   ]
  },
  {
   "cell_type": "markdown",
   "metadata": {},
   "source": [
    "Q9"
   ]
  },
  {
   "cell_type": "code",
   "execution_count": 1,
   "metadata": {},
   "outputs": [],
   "source": [
    "# Imports\n",
    "from selenium import webdriver\n",
    "import pandas as pd \n",
    "import time\n",
    "from selenium.common.exceptions import NoSuchElementException    # Importing Exception"
   ]
  },
  {
   "cell_type": "code",
   "execution_count": 2,
   "metadata": {},
   "outputs": [],
   "source": [
    "driver=webdriver.Chrome(\"chromedriver.exe\") \n",
    "\n",
    "time.sleep(4)\n",
    "\n",
    "\n",
    "\n",
    "url = \"https://www.imdb.com/list/ls095964455/\"\n",
    "\n",
    "driver.get(url)"
   ]
  },
  {
   "cell_type": "code",
   "execution_count": 7,
   "metadata": {},
   "outputs": [],
   "source": [
    "## Fetching urls\n",
    "urls=[]\n",
    "for i in driver.find_elements_by_xpath(\"//h3[@class='lister-item-header']//a\"):\n",
    "    urls.append(i.get_attribute(\"href\"))\n"
   ]
  },
  {
   "cell_type": "code",
   "execution_count": 8,
   "metadata": {},
   "outputs": [
    {
     "data": {
      "text/plain": [
       "100"
      ]
     },
     "execution_count": 8,
     "metadata": {},
     "output_type": "execute_result"
    }
   ],
   "source": [
    "len(urls)"
   ]
  },
  {
   "cell_type": "code",
   "execution_count": 9,
   "metadata": {},
   "outputs": [
    {
     "data": {
      "text/plain": [
       "['https://www.imdb.com/title/tt0944947/?ref_=ttls_li_tt',\n",
       " 'https://www.imdb.com/title/tt4574334/?ref_=ttls_li_tt',\n",
       " 'https://www.imdb.com/title/tt1520211/?ref_=ttls_li_tt',\n",
       " 'https://www.imdb.com/title/tt1837492/?ref_=ttls_li_tt',\n",
       " 'https://www.imdb.com/title/tt2661044/?ref_=ttls_li_tt',\n",
       " 'https://www.imdb.com/title/tt2372162/?ref_=ttls_li_tt',\n",
       " 'https://www.imdb.com/title/tt5420376/?ref_=ttls_li_tt',\n",
       " 'https://www.imdb.com/title/tt0413573/?ref_=ttls_li_tt',\n",
       " 'https://www.imdb.com/title/tt3107288/?ref_=ttls_li_tt',\n",
       " 'https://www.imdb.com/title/tt2193021/?ref_=ttls_li_tt',\n",
       " 'https://www.imdb.com/title/tt6468322/?ref_=ttls_li_tt',\n",
       " 'https://www.imdb.com/title/tt0898266/?ref_=ttls_li_tt',\n",
       " 'https://www.imdb.com/title/tt2085059/?ref_=ttls_li_tt',\n",
       " 'https://www.imdb.com/title/tt1475582/?ref_=ttls_li_tt',\n",
       " 'https://www.imdb.com/title/tt2306299/?ref_=ttls_li_tt',\n",
       " 'https://www.imdb.com/title/tt1578873/?ref_=ttls_li_tt',\n",
       " 'https://www.imdb.com/title/tt1405406/?ref_=ttls_li_tt',\n",
       " 'https://www.imdb.com/title/tt1844624/?ref_=ttls_li_tt',\n",
       " 'https://www.imdb.com/title/tt0903747/?ref_=ttls_li_tt',\n",
       " 'https://www.imdb.com/title/tt4052886/?ref_=ttls_li_tt',\n",
       " 'https://www.imdb.com/title/tt0460681/?ref_=ttls_li_tt',\n",
       " 'https://www.imdb.com/title/tt0455275/?ref_=ttls_li_tt',\n",
       " 'https://www.imdb.com/title/tt3205802/?ref_=ttls_li_tt',\n",
       " 'https://www.imdb.com/title/tt1567432/?ref_=ttls_li_tt',\n",
       " 'https://www.imdb.com/title/tt0096697/?ref_=ttls_li_tt',\n",
       " 'https://www.imdb.com/title/tt1843230/?ref_=ttls_li_tt',\n",
       " 'https://www.imdb.com/title/tt2707408/?ref_=ttls_li_tt',\n",
       " 'https://www.imdb.com/title/tt3322312/?ref_=ttls_li_tt',\n",
       " 'https://www.imdb.com/title/tt0108778/?ref_=ttls_li_tt',\n",
       " 'https://www.imdb.com/title/tt0460649/?ref_=ttls_li_tt',\n",
       " 'https://www.imdb.com/title/tt1632701/?ref_=ttls_li_tt',\n",
       " 'https://www.imdb.com/title/tt4158110/?ref_=ttls_li_tt',\n",
       " 'https://www.imdb.com/title/tt2632424/?ref_=ttls_li_tt',\n",
       " 'https://www.imdb.com/title/tt4016454/?ref_=ttls_li_tt',\n",
       " 'https://www.imdb.com/title/tt0397442/?ref_=ttls_li_tt',\n",
       " 'https://www.imdb.com/title/tt2431438/?ref_=ttls_li_tt',\n",
       " 'https://www.imdb.com/title/tt3749900/?ref_=ttls_li_tt',\n",
       " 'https://www.imdb.com/title/tt0475784/?ref_=ttls_li_tt',\n",
       " 'https://www.imdb.com/title/tt2357547/?ref_=ttls_li_tt',\n",
       " 'https://www.imdb.com/title/tt1442437/?ref_=ttls_li_tt',\n",
       " 'https://www.imdb.com/title/tt2861424/?ref_=ttls_li_tt',\n",
       " 'https://www.imdb.com/title/tt4145054/?ref_=ttls_li_tt',\n",
       " 'https://www.imdb.com/title/tt6257970/?ref_=ttls_li_tt',\n",
       " 'https://www.imdb.com/title/tt1856010/?ref_=ttls_li_tt',\n",
       " 'https://www.imdb.com/title/tt5753856/?ref_=ttls_li_tt',\n",
       " 'https://www.imdb.com/title/tt7134908/?ref_=ttls_li_tt',\n",
       " 'https://www.imdb.com/title/tt7767422/?ref_=ttls_li_tt',\n",
       " 'https://www.imdb.com/title/tt1586680/?ref_=ttls_li_tt',\n",
       " 'https://www.imdb.com/title/tt1826940/?ref_=ttls_li_tt',\n",
       " 'https://www.imdb.com/title/tt2364582/?ref_=ttls_li_tt',\n",
       " 'https://www.imdb.com/title/tt7335184/?ref_=ttls_li_tt',\n",
       " 'https://www.imdb.com/title/tt0773262/?ref_=ttls_li_tt',\n",
       " 'https://www.imdb.com/title/tt3743822/?ref_=ttls_li_tt',\n",
       " 'https://www.imdb.com/title/tt0182576/?ref_=ttls_li_tt',\n",
       " 'https://www.imdb.com/title/tt2741602/?ref_=ttls_li_tt',\n",
       " 'https://www.imdb.com/title/tt0411008/?ref_=ttls_li_tt',\n",
       " 'https://www.imdb.com/title/tt2442560/?ref_=ttls_li_tt',\n",
       " 'https://www.imdb.com/title/tt0412142/?ref_=ttls_li_tt',\n",
       " 'https://www.imdb.com/title/tt4428122/?ref_=ttls_li_tt',\n",
       " 'https://www.imdb.com/title/tt2234222/?ref_=ttls_li_tt',\n",
       " 'https://www.imdb.com/title/tt1796960/?ref_=ttls_li_tt',\n",
       " 'https://www.imdb.com/title/tt4474344/?ref_=ttls_li_tt',\n",
       " 'https://www.imdb.com/title/tt4532368/?ref_=ttls_li_tt',\n",
       " 'https://www.imdb.com/title/tt5834204/?ref_=ttls_li_tt',\n",
       " 'https://www.imdb.com/title/tt7569592/?ref_=ttls_li_tt',\n",
       " 'https://www.imdb.com/title/tt6470478/?ref_=ttls_li_tt',\n",
       " 'https://www.imdb.com/title/tt3566726/?ref_=ttls_li_tt',\n",
       " 'https://www.imdb.com/title/tt1327801/?ref_=ttls_li_tt',\n",
       " 'https://www.imdb.com/title/tt0121955/?ref_=ttls_li_tt',\n",
       " 'https://www.imdb.com/title/tt2467372/?ref_=ttls_li_tt',\n",
       " 'https://www.imdb.com/title/tt1553656/?ref_=ttls_li_tt',\n",
       " 'https://www.imdb.com/title/tt1312171/?ref_=ttls_li_tt',\n",
       " 'https://www.imdb.com/title/tt2356777/?ref_=ttls_li_tt',\n",
       " 'https://www.imdb.com/title/tt4635282/?ref_=ttls_li_tt',\n",
       " 'https://www.imdb.com/title/tt0410975/?ref_=ttls_li_tt',\n",
       " 'https://www.imdb.com/title/tt3032476/?ref_=ttls_li_tt',\n",
       " 'https://www.imdb.com/title/tt2188671/?ref_=ttls_li_tt',\n",
       " 'https://www.imdb.com/title/tt5675620/?ref_=ttls_li_tt',\n",
       " 'https://www.imdb.com/title/tt6315640/?ref_=ttls_li_tt',\n",
       " 'https://www.imdb.com/title/tt6128300/?ref_=ttls_li_tt',\n",
       " 'https://www.imdb.com/title/tt5555260/?ref_=ttls_li_tt',\n",
       " 'https://www.imdb.com/title/tt4955642/?ref_=ttls_li_tt',\n",
       " 'https://www.imdb.com/title/tt3322310/?ref_=ttls_li_tt',\n",
       " 'https://www.imdb.com/title/tt6656238/?ref_=ttls_li_tt',\n",
       " 'https://www.imdb.com/title/tt5290382/?ref_=ttls_li_tt',\n",
       " 'https://www.imdb.com/title/tt1837642/?ref_=ttls_li_tt',\n",
       " 'https://www.imdb.com/title/tt3322314/?ref_=ttls_li_tt',\n",
       " 'https://www.imdb.com/title/tt1837576/?ref_=ttls_li_tt',\n",
       " 'https://www.imdb.com/title/tt4230076/?ref_=ttls_li_tt',\n",
       " 'https://www.imdb.com/title/tt3920596/?ref_=ttls_li_tt',\n",
       " 'https://www.imdb.com/title/tt6487482/?ref_=ttls_li_tt',\n",
       " 'https://www.imdb.com/title/tt1196946/?ref_=ttls_li_tt',\n",
       " 'https://www.imdb.com/title/tt4786824/?ref_=ttls_li_tt',\n",
       " 'https://www.imdb.com/title/tt7366338/?ref_=ttls_li_tt',\n",
       " 'https://www.imdb.com/title/tt3501584/?ref_=ttls_li_tt',\n",
       " 'https://www.imdb.com/title/tt2710394/?ref_=ttls_li_tt',\n",
       " 'https://www.imdb.com/title/tt4834206/?ref_=ttls_li_tt',\n",
       " 'https://www.imdb.com/title/tt0452046/?ref_=ttls_li_tt',\n",
       " 'https://www.imdb.com/title/tt3921180/?ref_=ttls_li_tt',\n",
       " 'https://www.imdb.com/title/tt6763664/?ref_=ttls_li_tt']"
      ]
     },
     "execution_count": 9,
     "metadata": {},
     "output_type": "execute_result"
    }
   ],
   "source": [
    "urls"
   ]
  },
  {
   "cell_type": "code",
   "execution_count": 11,
   "metadata": {},
   "outputs": [],
   "source": [
    "## defining variables\n",
    "movie_title=[]\n",
    "movie_span=[]\n",
    "movie_runtime=[]\n",
    "movie_vote=[]\n",
    "movie_genre=[]\n",
    "movie_rating=[]"
   ]
  },
  {
   "cell_type": "code",
   "execution_count": 12,
   "metadata": {},
   "outputs": [],
   "source": [
    "for i in urls[:10]:\n",
    "    driver.get(i)\n",
    "    time.sleep(3)\n",
    "    \n",
    "    # fetching movie title\n",
    "    try:\n",
    "        movie=driver.find_element_by_xpath(\"//h1[@class='TitleHeader__TitleText-sc-1wu6n3d-0 dxSWFG']\")\n",
    "        movie_title.append(movie.text)\n",
    "    except NoSuchElementException:\n",
    "        movie_title.append('_')\n",
    "        \n",
    "    #fetching movie year of span\n",
    "    try:\n",
    "        movie_spa=driver.find_element_by_xpath(\"//span[@class='TitleBlockMetaData__ListItemText-sc-12ein40-2 jedhex']\")\n",
    "        movie_span.append(movie_spa.text)\n",
    "    except:\n",
    "        movie_span.append('_')\n",
    "        \n",
    "    #fetching movie genre\n",
    "    try:\n",
    "        movie_gen=driver.find_element_by_xpath(\"//div[@class='ipc-chip-list GenresAndPlot__GenresChipList-cum89p-4 gtBDBL']\")\n",
    "        movie_genre.append(movie_gen.text)\n",
    "    except:\n",
    "        movie_genre.append('_')\n",
    "        \n",
    "    #fetching movie rating\n",
    "    try:\n",
    "        movie_rat=driver.find_element_by_xpath(\"//div[@class='AggregateRatingButton__ContentWrap-sc-1ll29m0-0 hmJkIS']//div[1]//span[1]\")\n",
    "        movie_rating.append(movie_rat.text)\n",
    "    except:\n",
    "        movie_rating.append('_')\n",
    "        \n",
    "    #fetching movie runtime\n",
    "    try:\n",
    "        movie_run=driver.find_element_by_xpath(\"//ul[@class='ipc-inline-list ipc-inline-list--show-dividers TitleBlockMetaData__MetaDataList-sc-12ein40-0 dxizHm baseAlt']//li[4]\")\n",
    "        movie_runtime.append(movie_run.text)\n",
    "    except:\n",
    "        movie_runtime.append('_')"
   ]
  },
  {
   "cell_type": "code",
   "execution_count": 13,
   "metadata": {},
   "outputs": [
    {
     "name": "stdout",
     "output_type": "stream",
     "text": [
      "10\n",
      "10\n",
      "10\n",
      "10\n"
     ]
    }
   ],
   "source": [
    "print(len(movie_title))\n",
    "print(len(movie_rating))\n",
    "print(len(movie_span))\n",
    "print(len(movie_genre))"
   ]
  },
  {
   "cell_type": "code",
   "execution_count": 17,
   "metadata": {},
   "outputs": [
    {
     "data": {
      "text/plain": [
       "['57min',\n",
       " '51min',\n",
       " '44min',\n",
       " '1h',\n",
       " '43min',\n",
       " '59min',\n",
       " '45min',\n",
       " '41min',\n",
       " '43min',\n",
       " '42min']"
      ]
     },
     "execution_count": 17,
     "metadata": {},
     "output_type": "execute_result"
    }
   ],
   "source": [
    "movie_runtime"
   ]
  },
  {
   "cell_type": "code",
   "execution_count": 18,
   "metadata": {},
   "outputs": [
    {
     "data": {
      "text/plain": [
       "['2011–2019',\n",
       " '2016–',\n",
       " '2010–2022',\n",
       " '2017–2020',\n",
       " '2014–2020',\n",
       " '2013–2019',\n",
       " '2017–',\n",
       " '2005–',\n",
       " '2014–',\n",
       " '2012–2020']"
      ]
     },
     "execution_count": 18,
     "metadata": {},
     "output_type": "execute_result"
    }
   ],
   "source": [
    "movie_span = []\n",
    "for i in urls[:10]:\n",
    "    driver.get(i)\n",
    "    time.sleep(3)\n",
    "        \n",
    "    #fetching movie year of span\n",
    "    try:\n",
    "        movie_spa=driver.find_element_by_xpath(\"//ul[@class='ipc-inline-list ipc-inline-list--show-dividers TitleBlockMetaData__MetaDataList-sc-12ein40-0 dxizHm baseAlt']//li[2]//a\")\n",
    "        movie_span.append(movie_spa.text)\n",
    "    except:\n",
    "        movie_span.append('_')\n",
    "        \n",
    "movie_span"
   ]
  },
  {
   "cell_type": "code",
   "execution_count": null,
   "metadata": {},
   "outputs": [],
   "source": []
  },
  {
   "cell_type": "code",
   "execution_count": 19,
   "metadata": {},
   "outputs": [],
   "source": [
    "# import pandas as pd \n",
    "movie=pd.DataFrame({})\n",
    "movie['Names']=movie_title\n",
    "movie['rating']=movie_rating\n",
    "movie['span']=movie_span\n",
    "movie['genre']=movie_genre"
   ]
  },
  {
   "cell_type": "code",
   "execution_count": 20,
   "metadata": {},
   "outputs": [
    {
     "data": {
      "text/html": [
       "<div>\n",
       "<style scoped>\n",
       "    .dataframe tbody tr th:only-of-type {\n",
       "        vertical-align: middle;\n",
       "    }\n",
       "\n",
       "    .dataframe tbody tr th {\n",
       "        vertical-align: top;\n",
       "    }\n",
       "\n",
       "    .dataframe thead th {\n",
       "        text-align: right;\n",
       "    }\n",
       "</style>\n",
       "<table border=\"1\" class=\"dataframe\">\n",
       "  <thead>\n",
       "    <tr style=\"text-align: right;\">\n",
       "      <th></th>\n",
       "      <th>Names</th>\n",
       "      <th>rating</th>\n",
       "      <th>span</th>\n",
       "      <th>genre</th>\n",
       "    </tr>\n",
       "  </thead>\n",
       "  <tbody>\n",
       "    <tr>\n",
       "      <th>0</th>\n",
       "      <td>Game of Thrones</td>\n",
       "      <td>9.2</td>\n",
       "      <td>2011–2019</td>\n",
       "      <td>Action\\nAdventure\\nDrama</td>\n",
       "    </tr>\n",
       "    <tr>\n",
       "      <th>1</th>\n",
       "      <td>Stranger Things</td>\n",
       "      <td>8.7</td>\n",
       "      <td>2016–</td>\n",
       "      <td>Drama\\nFantasy\\nHorror</td>\n",
       "    </tr>\n",
       "    <tr>\n",
       "      <th>2</th>\n",
       "      <td>The Walking Dead</td>\n",
       "      <td>8.2</td>\n",
       "      <td>2010–2022</td>\n",
       "      <td>Drama\\nHorror\\nThriller</td>\n",
       "    </tr>\n",
       "    <tr>\n",
       "      <th>3</th>\n",
       "      <td>13 Reasons Why</td>\n",
       "      <td>7.6</td>\n",
       "      <td>2017–2020</td>\n",
       "      <td>Drama\\nMystery\\nThriller</td>\n",
       "    </tr>\n",
       "    <tr>\n",
       "      <th>4</th>\n",
       "      <td>The 100</td>\n",
       "      <td>7.6</td>\n",
       "      <td>2014–2020</td>\n",
       "      <td>Drama\\nMystery\\nSci-Fi</td>\n",
       "    </tr>\n",
       "    <tr>\n",
       "      <th>5</th>\n",
       "      <td>_</td>\n",
       "      <td>8.0</td>\n",
       "      <td>2013–2019</td>\n",
       "      <td>Comedy\\nCrime\\nDrama</td>\n",
       "    </tr>\n",
       "    <tr>\n",
       "      <th>6</th>\n",
       "      <td>Riverdale</td>\n",
       "      <td>6.8</td>\n",
       "      <td>2017–</td>\n",
       "      <td>Crime\\nDrama\\nMystery</td>\n",
       "    </tr>\n",
       "    <tr>\n",
       "      <th>7</th>\n",
       "      <td>Grey's Anatomy</td>\n",
       "      <td>7.5</td>\n",
       "      <td>2005–</td>\n",
       "      <td>Drama\\nRomance</td>\n",
       "    </tr>\n",
       "    <tr>\n",
       "      <th>8</th>\n",
       "      <td>The Flash</td>\n",
       "      <td>7.6</td>\n",
       "      <td>2014–</td>\n",
       "      <td>Action\\nAdventure\\nDrama</td>\n",
       "    </tr>\n",
       "    <tr>\n",
       "      <th>9</th>\n",
       "      <td>Arrow</td>\n",
       "      <td>7.5</td>\n",
       "      <td>2012–2020</td>\n",
       "      <td>Action\\nAdventure\\nCrime</td>\n",
       "    </tr>\n",
       "  </tbody>\n",
       "</table>\n",
       "</div>"
      ],
      "text/plain": [
       "              Names rating       span                     genre\n",
       "0   Game of Thrones    9.2  2011–2019  Action\\nAdventure\\nDrama\n",
       "1   Stranger Things    8.7      2016–    Drama\\nFantasy\\nHorror\n",
       "2  The Walking Dead    8.2  2010–2022   Drama\\nHorror\\nThriller\n",
       "3    13 Reasons Why    7.6  2017–2020  Drama\\nMystery\\nThriller\n",
       "4           The 100    7.6  2014–2020    Drama\\nMystery\\nSci-Fi\n",
       "5                 _    8.0  2013–2019      Comedy\\nCrime\\nDrama\n",
       "6         Riverdale    6.8      2017–     Crime\\nDrama\\nMystery\n",
       "7    Grey's Anatomy    7.5      2005–            Drama\\nRomance\n",
       "8         The Flash    7.6      2014–  Action\\nAdventure\\nDrama\n",
       "9             Arrow    7.5  2012–2020  Action\\nAdventure\\nCrime"
      ]
     },
     "execution_count": 20,
     "metadata": {},
     "output_type": "execute_result"
    }
   ],
   "source": [
    "movie"
   ]
  },
  {
   "cell_type": "markdown",
   "metadata": {},
   "source": [
    "Q6"
   ]
  },
  {
   "cell_type": "code",
   "execution_count": 1,
   "metadata": {},
   "outputs": [],
   "source": [
    "# Imports\n",
    "from selenium import webdriver\n",
    "import pandas as pd \n",
    "import time\n",
    "from selenium.common.exceptions import NoSuchElementException    # Importing Exception"
   ]
  },
  {
   "cell_type": "code",
   "execution_count": 2,
   "metadata": {},
   "outputs": [],
   "source": [
    "# Activating the chrome browser\n",
    "driver=webdriver.Chrome(\"chromedriver.exe\") \n",
    "time.sleep(2)\n",
    "\n",
    "# Opening the billboard\n",
    "url = \"https://www.billboard.com/\"\n",
    "driver.get(url)\n",
    "time.sleep(2)\n",
    "\n",
    "\n",
    "#clicking the hot 100 songs link\n",
    "charts=driver.find_element_by_xpath(\"//ul[@class='header__subnav__list display--flex flex--left-center flex-md--center-center']//li[3]//a\")\n",
    "try:\n",
    "    charts.click()\n",
    "except ElementNotInteractableException:\n",
    "    driver.get(charts.get_attribute('href'))\n",
    "    "
   ]
  },
  {
   "cell_type": "code",
   "execution_count": 19,
   "metadata": {},
   "outputs": [
    {
     "data": {
      "text/plain": [
       "26"
      ]
     },
     "execution_count": 19,
     "metadata": {},
     "output_type": "execute_result"
    }
   ],
   "source": [
    "len(url)"
   ]
  },
  {
   "cell_type": "code",
   "execution_count": 3,
   "metadata": {},
   "outputs": [],
   "source": [
    "## defining variables\n",
    "song_title=[]\n",
    "song_artist=[]\n",
    "song_lastweek=[]\n",
    "song_peakrank=[]\n",
    "song_weeksonboard=[]"
   ]
  },
  {
   "cell_type": "code",
   "execution_count": 7,
   "metadata": {},
   "outputs": [],
   "source": [
    "for i in url[:10]:\n",
    "    \n",
    "    # fetching song title\n",
    "    try:\n",
    "        song=driver.find_element_by_xpath(\"//span[@class='chart-element__information__song text--truncate color--primary']\")\n",
    "        song_title.append(song.text)\n",
    "    except NoSuchElementException:\n",
    "        song_title.append('_')"
   ]
  },
  {
   "cell_type": "code",
   "execution_count": 8,
   "metadata": {},
   "outputs": [
    {
     "data": {
      "text/plain": [
       "['_',\n",
       " '_',\n",
       " '_',\n",
       " '_',\n",
       " '_',\n",
       " '_',\n",
       " '_',\n",
       " '_',\n",
       " '_',\n",
       " '_',\n",
       " 'Butter',\n",
       " 'Butter',\n",
       " 'Butter',\n",
       " 'Butter',\n",
       " 'Butter',\n",
       " 'Butter',\n",
       " 'Butter',\n",
       " 'Butter',\n",
       " 'Butter',\n",
       " 'Butter']"
      ]
     },
     "execution_count": 8,
     "metadata": {},
     "output_type": "execute_result"
    }
   ],
   "source": [
    "song_title"
   ]
  },
  {
   "cell_type": "markdown",
   "metadata": {},
   "source": [
    "Q1"
   ]
  },
  {
   "cell_type": "code",
   "execution_count": 9,
   "metadata": {},
   "outputs": [],
   "source": [
    "# Imports\n",
    "from selenium import webdriver\n",
    "import pandas as pd \n",
    "import time\n",
    "from selenium.common.exceptions import NoSuchElementException    # Importing Exception"
   ]
  },
  {
   "cell_type": "code",
   "execution_count": 10,
   "metadata": {},
   "outputs": [],
   "source": [
    "driver=webdriver.Chrome(\"chromedriver.exe\") \n",
    "\n",
    "time.sleep(4)\n",
    "\n",
    "\n",
    "\n",
    "url = \"https://en.wikipedia.org/wiki/List_of_most-viewed_YouTube_videos\"\n",
    "\n",
    "driver.get(url)"
   ]
  },
  {
   "cell_type": "code",
   "execution_count": 11,
   "metadata": {},
   "outputs": [],
   "source": [
    "## Fetching urls\n",
    "urls=[]\n",
    "for i in driver.find_elements_by_xpath(\"//a[@class='mw-redirect']\"):\n",
    "    urls.append(i.get_attribute(\"href\"))"
   ]
  },
  {
   "cell_type": "code",
   "execution_count": 12,
   "metadata": {},
   "outputs": [
    {
     "data": {
      "text/plain": [
       "22"
      ]
     },
     "execution_count": 12,
     "metadata": {},
     "output_type": "execute_result"
    }
   ],
   "source": [
    "len(urls)"
   ]
  },
  {
   "cell_type": "code",
   "execution_count": 13,
   "metadata": {},
   "outputs": [
    {
     "data": {
      "text/plain": [
       "['https://en.wikipedia.org/wiki/Music_videos',\n",
       " 'https://en.wikipedia.org/wiki/Baby_Shark_Dance',\n",
       " 'https://en.wikipedia.org/wiki/Baby_Shark_Dance',\n",
       " 'https://en.wikipedia.org/wiki/Baby_Shark_Dance',\n",
       " 'https://en.wikipedia.org/wiki/Cocomelon_%E2%80%93_Nursery_Rhymes',\n",
       " 'https://en.wikipedia.org/wiki/Cocomelon_%E2%80%93_Nursery_Rhymes',\n",
       " 'https://en.wikipedia.org/wiki/Cocomelon_%E2%80%93_Nursery_Rhymes',\n",
       " 'https://en.wikipedia.org/wiki/I%27m_a_Gummy_Bear_(The_Gummy_Bear_Song)',\n",
       " 'https://en.wikipedia.org/wiki/Fueled_By_Ramen',\n",
       " 'https://en.wikipedia.org/wiki/I%27m_a_Gummy_Bear_(The_Gummy_Bear_Song)',\n",
       " 'https://en.wikipedia.org/wiki/I%27m_a_Gummy_Bear_(The_Gummy_Bear_Song)',\n",
       " 'https://en.wikipedia.org/wiki/Baby_Shark_Dance',\n",
       " 'https://en.wikipedia.org/wiki/Closer_(Chainsmokers_song)',\n",
       " 'https://en.wikipedia.org/wiki/Cocomelon_%E2%80%93_Nursery_Rhymes',\n",
       " 'https://en.wikipedia.org/wiki/Cocomelon_%E2%80%93_Nursery_Rhymes',\n",
       " 'https://en.wikipedia.org/wiki/Baby_Shark_Dance',\n",
       " 'https://en.wikipedia.org/wiki/List_of_most-viewed_online_trailers_in_the_first_24_hours',\n",
       " 'https://en.wikipedia.org/wiki/Geolocation_software#Regional_licensing',\n",
       " 'https://en.wikipedia.org/wiki/Geolocation_software#Regional_licensing',\n",
       " 'https://en.wikipedia.org/wiki/Wired_(website)',\n",
       " 'https://en.wikipedia.org/wiki/Criticism_of_YouTube',\n",
       " 'https://en.wikipedia.org/wiki/Censorship_by_YouTube']"
      ]
     },
     "execution_count": 13,
     "metadata": {},
     "output_type": "execute_result"
    }
   ],
   "source": [
    "urls"
   ]
  },
  {
   "cell_type": "code",
   "execution_count": 17,
   "metadata": {},
   "outputs": [],
   "source": [
    "## defining variables\n",
    "video_title=[]\n",
    "video_year=[]"
   ]
  },
  {
   "cell_type": "code",
   "execution_count": 18,
   "metadata": {},
   "outputs": [],
   "source": [
    "for i in urls[:10]:\n",
    "    driver.get(i)\n",
    "    time.sleep(3)\n",
    "    # fetching video title\n",
    "    try:\n",
    "        video=driver.find_element_by_xpath(\"//a[@class='mw-redirect']\")\n",
    "        video_title.append(video.text)\n",
    "    except NoSuchElementException:\n",
    "        video_title.append('_')\n",
    "        \n",
    "    #fetching job description\n",
    "    try:\n",
    "        video_yea=driver.find_element_by_xpath(\"//td[@class='infobox-data plainlist']\")\n",
    "        video_year.append(video_yea.text)\n",
    "    except:\n",
    "        video_year.append('_')\n",
    "        \n",
    "    "
   ]
  },
  {
   "cell_type": "code",
   "execution_count": 20,
   "metadata": {},
   "outputs": [
    {
     "data": {
      "text/plain": [
       "['_', '_', '_', '_', '_', '_', '_', '2006', '_', '2006']"
      ]
     },
     "execution_count": 20,
     "metadata": {},
     "output_type": "execute_result"
    }
   ],
   "source": [
    "video_year"
   ]
  },
  {
   "cell_type": "code",
   "execution_count": null,
   "metadata": {},
   "outputs": [],
   "source": []
  }
 ],
 "metadata": {
  "kernelspec": {
   "display_name": "Python 3",
   "language": "python",
   "name": "python3"
  },
  "language_info": {
   "codemirror_mode": {
    "name": "ipython",
    "version": 3
   },
   "file_extension": ".py",
   "mimetype": "text/x-python",
   "name": "python",
   "nbconvert_exporter": "python",
   "pygments_lexer": "ipython3",
   "version": "3.8.5"
  }
 },
 "nbformat": 4,
 "nbformat_minor": 4
}
